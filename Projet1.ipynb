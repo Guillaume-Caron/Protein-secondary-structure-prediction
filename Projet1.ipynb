{
 "cells": [
  {
   "cell_type": "markdown",
   "id": "84edc428",
   "metadata": {},
   "source": [
    "# Imports"
   ]
  },
  {
   "cell_type": "code",
   "execution_count": 1,
   "id": "deaa25c0",
   "metadata": {},
   "outputs": [],
   "source": [
    "import os\n",
    "import pandas as pd\n",
    "import numpy as np\n",
    "import matplotlib.pyplot as plt\n",
    "import seaborn as sns\n",
    "from skimage.io import imread\n",
    "from sklearn.metrics import accuracy_score, classification_report, confusion_matrix\n",
    "from sklearn.metrics import confusion_matrix, ConfusionMatrixDisplay\n",
    "from sklearn.model_selection import train_test_split\n",
    "import requests\n",
    "from sklearn.utils import shuffle\n",
    "\n",
    "import tensorflow as tf\n",
    "import keras\n",
    "from keras.losses import SparseCategoricalCrossentropy\n",
    "from tensorflow.keras.layers import Conv2D, MaxPooling2D, Flatten, Dense, Dropout\n",
    "from tensorflow.keras import layers\n",
    "from tensorflow.keras.models import Sequential\n",
    "import cv2\n",
    "from tensorflow.keras.callbacks import EarlyStopping\n",
    "from sklearn.preprocessing import LabelEncoder\n",
    "from keras.utils import to_categorical\n",
    "import requests\n",
    "import xml.etree.ElementTree as ET\n",
    "from tensorflow.keras.preprocessing.sequence import pad_sequences"
   ]
  },
  {
   "cell_type": "markdown",
   "id": "089b1dcf",
   "metadata": {},
   "source": [
    "# Creating Dataset"
   ]
  },
  {
   "cell_type": "code",
   "execution_count": null,
   "id": "ee74c83d",
   "metadata": {},
   "outputs": [],
   "source": [
    "def fetch_fasta_data(url):\n",
    "    response = requests.get(url)\n",
    "    if response.status_code == 200:\n",
    "        return response.text\n",
    "    else:\n",
    "        print(f\"Failed to retrieve data: {response.status_code}\")\n",
    "        return None\n",
    "\n",
    "def parse_fasta(data):\n",
    "    protein_ids = []\n",
    "    for line in data.split('\\n'):\n",
    "        if line.startswith('>'):\n",
    "            # extract the protein ID from the header \n",
    "            protein_id = line.split('|')[1]  \n",
    "            protein_ids.append(protein_id)\n",
    "    return protein_ids\n",
    "\n",
    "url = 'https://rest.uniprot.org/uniprotkb/stream?format=fasta&query=%28organism_id%3A9606%29+AND+%28reviewed%3Atrue%29+AND+%28proteins_with%3A27%29+AND+%28proteins_with%3A7%29+AND+%28proteins_with%3A57%29'\n",
    "fasta_data = fetch_fasta_data(url)\n",
    "\n",
    "if fasta_data:\n",
    "    protein_ids = parse_fasta(fasta_data)\n",
    "    print(protein_ids)\n"
   ]
  },
  {
   "cell_type": "code",
   "execution_count": null,
   "id": "fbe0c7d6",
   "metadata": {},
   "outputs": [],
   "source": [
    "protein_ids_1000 = protein_ids[:1000]\n"
   ]
  },
  {
   "cell_type": "code",
   "execution_count": null,
   "id": "6804b693",
   "metadata": {},
   "outputs": [],
   "source": []
  },
  {
   "cell_type": "code",
   "execution_count": null,
   "id": "b243bf26",
   "metadata": {},
   "outputs": [],
   "source": [
    "def get_primary_structure(uniprot_id):\n",
    "    url_sequence = f'https://www.uniprot.org/uniprot/{uniprot_id}.fasta'\n",
    "    fasta_data = requests.get(url_sequence).text\n",
    "    sequence_lines = fasta_data.split('\\n')[1:]  # get only the sequence\n",
    "    sequence = ''.join(sequence_lines)\n",
    "    return sequence\n",
    "\n",
    "def get_secondary_structure(uniprot_id):\n",
    "    url_xml = f'https://www.uniprot.org/uniprot/{uniprot_id}.xml'\n",
    "    xml_data = requests.get(url_xml).text\n",
    "    i = ET.fromstring(xml_data)\n",
    "\n",
    "    \n",
    "    secondary_structure_annotations = []\n",
    "    for feature in i.findall('.//{http://uniprot.org/uniprot}feature'):\n",
    "        feature_type = feature.attrib.get('type', '')\n",
    "        if feature_type in ['helix', 'strand', 'turn']:\n",
    "            location = feature.find('{http://uniprot.org/uniprot}location')\n",
    "            start = int(location.find('{http://uniprot.org/uniprot}begin').attrib['position'])\n",
    "            end = int(location.find('{http://uniprot.org/uniprot}end').attrib['position'])\n",
    "            if feature_type == 'helix':\n",
    "                secondary_structure_annotations.extend(['H'] * (end - start + 1))\n",
    "            elif feature_type == 'strand':\n",
    "                secondary_structure_annotations.extend(['B'] * (end - start + 1))\n",
    "            elif feature_type == 'turn':\n",
    "                secondary_structure_annotations.extend(['T'] * (end - start + 1))\n",
    "\n",
    "    return ''.join(secondary_structure_annotations)"
   ]
  },
  {
   "cell_type": "code",
   "execution_count": null,
   "id": "bfe0f9b2",
   "metadata": {},
   "outputs": [],
   "source": [
    "prot_primary_seq = []"
   ]
  },
  {
   "cell_type": "code",
   "execution_count": null,
   "id": "3547fdb0",
   "metadata": {
    "scrolled": true
   },
   "outputs": [],
   "source": [
    "prot_primary_seq = []\n",
    "for i in protein_ids_1000:\n",
    "    a = get_primary_structure(i)\n",
    "    prot_primary_seq.append(a)\n",
    "prot_primary_seq"
   ]
  },
  {
   "cell_type": "code",
   "execution_count": null,
   "id": "a60f7666",
   "metadata": {},
   "outputs": [],
   "source": [
    "prot_secondary_seq = []"
   ]
  },
  {
   "cell_type": "code",
   "execution_count": null,
   "id": "03794c26",
   "metadata": {
    "scrolled": true
   },
   "outputs": [],
   "source": [
    "prot_secondary_seq = []\n",
    "for i in protein_ids_1000:\n",
    "    b = get_secondary_structure(i)\n",
    "    prot_secondary_seq.append(b)\n",
    "prot_secondary_seq"
   ]
  },
  {
   "cell_type": "code",
   "execution_count": null,
   "id": "b20eefbf",
   "metadata": {},
   "outputs": [],
   "source": []
  },
  {
   "cell_type": "code",
   "execution_count": null,
   "id": "d73dff7c",
   "metadata": {},
   "outputs": [],
   "source": []
  },
  {
   "cell_type": "code",
   "execution_count": 6,
   "id": "602ced6f",
   "metadata": {},
   "outputs": [
    {
     "data": {
      "text/plain": [
       "3000"
      ]
     },
     "execution_count": 6,
     "metadata": {},
     "output_type": "execute_result"
    }
   ],
   "source": [
    "df = pd.read_csv('../Final/data.csv')\n",
    "prot_primary_seq = df.iloc[:, 0].tolist()\n",
    "\n",
    "\n",
    "prot_secondary_seq = df.iloc[:, 1].tolist()\n"
   ]
  },
  {
   "cell_type": "code",
   "execution_count": null,
   "id": "2aebf3fc",
   "metadata": {},
   "outputs": [],
   "source": []
  },
  {
   "cell_type": "code",
   "execution_count": null,
   "id": "6cde9b9f",
   "metadata": {},
   "outputs": [],
   "source": []
  },
  {
   "cell_type": "markdown",
   "id": "7838e251",
   "metadata": {},
   "source": [
    "# Encoding and padding"
   ]
  },
  {
   "cell_type": "code",
   "execution_count": 7,
   "id": "c899bfc9",
   "metadata": {},
   "outputs": [
    {
     "name": "stdout",
     "output_type": "stream",
     "text": [
      "(3000, 6669, 7)\n",
      "(3000, 6669, 3)\n"
     ]
    }
   ],
   "source": [
    "properties_dict =  {\n",
    "    'A': [1.28, 0.05, 1.00, 0.31, 6.11, 0.42, 0.23], # [streric parameter, polarizability,volume,hydrophobicity,isoelectric point,H prob.,B prob.]\n",
    "    'G': [0.00, 0.00, 0.00, 0.00, 6.07, 0.13, 0.15],\n",
    "    'V': [3.67, 0.14, 3.00, 1.22, 6.02, 0.27, 0.49],\n",
    "    'L': [2.59, 0.19, 4.00, 1.70, 6.04, 0.39, 0.31],\n",
    "    'I': [4.19, 0.19, 4.00, 1.80, 6.04, 0.30, 0.45],\n",
    "    'F': [2.94, 0.29, 5.89, 1.79, 5.67, 0.30, 0.38],\n",
    "    'Y': [2.94, 0.30, 6.47, 0.96, 5.66, 0.25, 0.41],\n",
    "    'W': [3.21, 0.41, 8.08, 2.25, 5.94, 0.32, 0.42],\n",
    "    'T': [3.03, 0.11, 2.60, 0.26, 5.60, 0.21, 0.36],\n",
    "    'S': [1.31, 0.06, 1.60, -0.04, 5.70, 0.20, 0.28],\n",
    "    'R': [2.34, 0.29, 6.13, -1.01, 10.74, 0.36, 0.25],\n",
    "    'K': [1.89, 0.22, 4.77, -0.99, 9.99, 0.32, 0.27],\n",
    "    'H': [2.99, 0.23, 4.66, 0.13, 7.69, 0.27, 0.30],\n",
    "    'D': [1.60, 0.11, 2.78, -0.77, 2.95, 0.25, 0.20],\n",
    "    'E': [1.56, 0.15, 3.78, -0.64, 3.09, 0.42, 0.21],\n",
    "    'N': [1.60, 0.13, 2.95, -0.60, 6.52, 0.21, 0.22],\n",
    "    'Q': [1.56, 0.18, 3.95, -0.22, 5.65, 0.36, 0.25],\n",
    "    'M': [2.35, 0.22, 4.43, 1.23, 5.71, 0.38, 0.32],\n",
    "    'P': [2.67, 0.00, 2.72, 0.72, 6.80, 0.13, 0.34],\n",
    "    'C': [1.77, 0.13, 2.43, 1.54, 6.35, 0.17, 0.41]\n",
    "}\n",
    "\n",
    "def encode_with_properties(prot_primary_seq, properties_dict):\n",
    "    encoded_seqs = []\n",
    "    for sequence in prot_primary_seq:\n",
    "        encoded_seq = []\n",
    "        for aa in sequence:\n",
    "            if aa in properties_dict:\n",
    "                encoded_seq.append(properties_dict[aa])\n",
    "            else:\n",
    "                encoded_seq.append([0.0] * len(next(iter(properties_dict.values()))))  # Default to zeros if unknown\n",
    "        encoded_seqs.append(encoded_seq)\n",
    "    \n",
    "    return (encoded_seqs)\n",
    "\n",
    "def one_hot_encode2(prot_secondary_seq):\n",
    "    encoded_seqs2 = []\n",
    "    secondary_structure = ['H', 'B', 'T']  \n",
    "    ss_to_index = {ss: i for i, ss in enumerate(secondary_structure)}\n",
    "    \n",
    "    for sequence in prot_secondary_seq:\n",
    "        encoded_seq2 = np.zeros((len(sequence), len(secondary_structure)))\n",
    "        \n",
    "        # go over each secondary structure symbol in the sequence\n",
    "        for i, ss in enumerate(sequence):\n",
    "            if ss in ss_to_index:\n",
    "                index = ss_to_index[ss]\n",
    "                encoded_seq2[i, index] = 1\n",
    "        \n",
    "        encoded_seqs2.append(encoded_seq2)\n",
    "\n",
    "    return encoded_seqs2\n",
    "\n",
    "\n",
    "encoded_primary = encode_with_properties(prot_primary_seq, properties_dict)\n",
    "\n",
    "\n",
    "encoded_secondary = one_hot_encode2(prot_secondary_seq)\n",
    "\n",
    "#primary padding\n",
    "max_length = max(len(seq) for seq in encoded_primary)\n",
    "padded_primary_sequences = pad_sequences(encoded_primary, maxlen=max_length, padding='post',dtype='float32')\n",
    "\n",
    "#secondary padding; keep the same lenght of encoded_primary so that it fits in the model\n",
    "\n",
    "padded_secondary_sequences = pad_sequences(encoded_secondary, maxlen=max_length, padding='post')\n",
    "\n",
    "print(padded_primary_sequences.shape)\n",
    "print(padded_secondary_sequences.shape)\n"
   ]
  },
  {
   "cell_type": "markdown",
   "id": "bd872e63",
   "metadata": {},
   "source": [
    "# Splitting Data and Model"
   ]
  },
  {
   "cell_type": "code",
   "execution_count": 8,
   "id": "03a2f0bc",
   "metadata": {},
   "outputs": [
    {
     "name": "stdout",
     "output_type": "stream",
     "text": [
      "Training set shapes: (2099, 6669, 7) (2099, 6669, 3)\n",
      "Validation set shapes: (451, 6669, 7) (451, 6669, 3)\n",
      "Test set shapes: (450, 6669, 7) (450, 6669, 3)\n"
     ]
    }
   ],
   "source": [
    "X = padded_primary_sequences\n",
    "y = padded_secondary_sequences\n",
    "\n",
    "\n",
    "train_size = 0.7  # 70% of the data for training\n",
    "val_size = 0.15   # 15% of the data for validation\n",
    "test_size = 0.15  # 15% of the data for testing\n",
    "\n",
    "# split the data into training, validation, and test set\n",
    "X_train_val, X_test, y_train_val, y_test = train_test_split(X, y, test_size=test_size, random_state=42)\n",
    "X_train, X_val, y_train, y_val = train_test_split(X_train_val, y_train_val, test_size=val_size/(1-test_size), random_state=42)\n",
    "\n",
    "#  verify the shapes of your sets\n",
    "print(\"Training set shapes:\", X_train.shape, y_train.shape)\n",
    "print(\"Validation set shapes:\", X_val.shape, y_val.shape)\n",
    "print(\"Test set shapes:\", X_test.shape, y_test.shape)"
   ]
  },
  {
   "cell_type": "code",
   "execution_count": 10,
   "id": "e59d30fe",
   "metadata": {},
   "outputs": [
    {
     "name": "stdout",
     "output_type": "stream",
     "text": [
      "Epoch 1/10\n",
      "\u001b[1m66/66\u001b[0m \u001b[32m━━━━━━━━━━━━━━━━━━━━\u001b[0m\u001b[37m\u001b[0m \u001b[1m1881s\u001b[0m 28s/step - accuracy: 0.3570 - loss: 0.0435 - val_accuracy: 0.0154 - val_loss: 0.0374\n",
      "Epoch 2/10\n",
      "\u001b[1m66/66\u001b[0m \u001b[32m━━━━━━━━━━━━━━━━━━━━\u001b[0m\u001b[37m\u001b[0m \u001b[1m1768s\u001b[0m 27s/step - accuracy: 0.3572 - loss: 0.0558 - val_accuracy: 0.9824 - val_loss: 0.0371\n",
      "Epoch 3/10\n",
      "\u001b[1m66/66\u001b[0m \u001b[32m━━━━━━━━━━━━━━━━━━━━\u001b[0m\u001b[37m\u001b[0m \u001b[1m1845s\u001b[0m 28s/step - accuracy: 0.3606 - loss: 0.0562 - val_accuracy: 0.9826 - val_loss: 0.0356\n",
      "Epoch 4/10\n",
      "\u001b[1m66/66\u001b[0m \u001b[32m━━━━━━━━━━━━━━━━━━━━\u001b[0m\u001b[37m\u001b[0m \u001b[1m1558s\u001b[0m 24s/step - accuracy: 0.3603 - loss: 0.0551 - val_accuracy: 0.9826 - val_loss: 0.0371\n",
      "Epoch 5/10\n",
      "\u001b[1m66/66\u001b[0m \u001b[32m━━━━━━━━━━━━━━━━━━━━\u001b[0m\u001b[37m\u001b[0m \u001b[1m1566s\u001b[0m 24s/step - accuracy: 0.3591 - loss: 0.0556 - val_accuracy: 0.9829 - val_loss: 0.0368\n",
      "Epoch 6/10\n",
      "\u001b[1m66/66\u001b[0m \u001b[32m━━━━━━━━━━━━━━━━━━━━\u001b[0m\u001b[37m\u001b[0m \u001b[1m1542s\u001b[0m 23s/step - accuracy: 0.3602 - loss: 0.0564 - val_accuracy: 0.9829 - val_loss: 0.0371\n",
      "Epoch 7/10\n",
      "\u001b[1m66/66\u001b[0m \u001b[32m━━━━━━━━━━━━━━━━━━━━\u001b[0m\u001b[37m\u001b[0m \u001b[1m1555s\u001b[0m 24s/step - accuracy: 0.3590 - loss: 0.0549 - val_accuracy: 0.9830 - val_loss: 0.0370\n",
      "Epoch 8/10\n",
      "\u001b[1m66/66\u001b[0m \u001b[32m━━━━━━━━━━━━━━━━━━━━\u001b[0m\u001b[37m\u001b[0m \u001b[1m1530s\u001b[0m 23s/step - accuracy: 0.3598 - loss: 0.0547 - val_accuracy: 0.9830 - val_loss: 0.0368\n",
      "Epoch 9/10\n",
      "\u001b[1m66/66\u001b[0m \u001b[32m━━━━━━━━━━━━━━━━━━━━\u001b[0m\u001b[37m\u001b[0m \u001b[1m1579s\u001b[0m 24s/step - accuracy: 0.3593 - loss: 0.0530 - val_accuracy: 0.9833 - val_loss: 0.0365\n",
      "Epoch 10/10\n",
      "\u001b[1m66/66\u001b[0m \u001b[32m━━━━━━━━━━━━━━━━━━━━\u001b[0m\u001b[37m\u001b[0m \u001b[1m1540s\u001b[0m 23s/step - accuracy: 0.3596 - loss: 0.0543 - val_accuracy: 0.9832 - val_loss: 0.0370\n",
      "\u001b[1m15/15\u001b[0m \u001b[32m━━━━━━━━━━━━━━━━━━━━\u001b[0m\u001b[37m\u001b[0m \u001b[1m33s\u001b[0m 2s/step - accuracy: 0.9829 - loss: 0.0381\n",
      "Test Loss: 0.037330057471990585, Test Accuracy: 0.9837827086448669\n"
     ]
    }
   ],
   "source": [
    "\n",
    "\n",
    "# model1\n",
    "model = tf.keras.Sequential([\n",
    "    tf.keras.layers.Input(shape= (max_length, 7)),  # input layer\n",
    "    tf.keras.layers.Bidirectional(tf.keras.layers.LSTM(units=128, return_sequences=True)),  # BILSTM layer\n",
    "    tf.keras.layers.Dropout(0.5),  # dropout layer\n",
    "    tf.keras.layers.Dense(3, activation='softmax')  # output layer\n",
    " ])\n",
    "\n",
    "# compiling the model\n",
    "model.compile(optimizer='adam', loss='categorical_crossentropy', metrics=['accuracy'])\n",
    "\n",
    "# training the model\n",
    "modeling = model.fit(X_train, y_train, \n",
    "                    validation_data=(X_val, y_val),  \n",
    "                    epochs=10, \n",
    "                    batch_size=32)\n",
    "\n",
    " #evaluating the model\n",
    "loss, accuracy = model.evaluate(X_test, y_test)\n",
    "print(f'Test Loss: {loss}, Test Accuracy: {accuracy}')\n"
   ]
  },
  {
   "cell_type": "code",
   "execution_count": null,
   "id": "daa11124",
   "metadata": {},
   "outputs": [],
   "source": []
  },
  {
   "cell_type": "code",
   "execution_count": null,
   "id": "e984d148",
   "metadata": {},
   "outputs": [],
   "source": []
  },
  {
   "cell_type": "code",
   "execution_count": 11,
   "id": "dd27806f",
   "metadata": {},
   "outputs": [
    {
     "data": {
      "image/png": "[encoded data removed]",
      "text/plain": [
       "<Figure size 1200x400 with 2 Axes>"
      ]
     },
     "metadata": {},
     "output_type": "display_data"
    }
   ],
   "source": [
    "import matplotlib.pyplot as plt\n",
    "\n",
    "# Plot training & validation loss values\n",
    "plt.figure(figsize=(12, 4))\n",
    "plt.subplot(1, 2, 1)\n",
    "plt.plot(modeling.history['loss'])\n",
    "plt.plot(modeling.history['val_loss'])\n",
    "plt.title('Model loss')\n",
    "plt.ylabel('Loss')\n",
    "plt.xlabel('Epoch')\n",
    "plt.legend(['Train', 'Validation'], loc='upper left')\n",
    "\n",
    "# Plot training & validation accuracy values\n",
    "plt.subplot(1, 2, 2)\n",
    "plt.plot(modeling.history['accuracy'])\n",
    "plt.plot(modeling.history['val_accuracy'])\n",
    "plt.title('Model accuracy')\n",
    "plt.ylabel('Accuracy')\n",
    "plt.xlabel('Epoch')\n",
    "plt.legend(['Train', 'Validation'], loc='upper left')\n",
    "\n",
    "plt.show()\n"
   ]
  },
  {
   "cell_type": "code",
   "execution_count": null,
   "id": "651a2eb5",
   "metadata": {},
   "outputs": [],
   "source": []
  },
  {
   "cell_type": "code",
   "execution_count": null,
   "id": "8315d86b",
   "metadata": {},
   "outputs": [],
   "source": []
  },
  {
   "cell_type": "code",
   "execution_count": null,
   "id": "3954b466",
   "metadata": {},
   "outputs": [],
   "source": []
  },
  {
   "cell_type": "code",
   "execution_count": null,
   "id": "d737cfce",
   "metadata": {},
   "outputs": [],
   "source": []
  },
  {
   "cell_type": "code",
   "execution_count": null,
   "id": "17032a64",
   "metadata": {},
   "outputs": [],
   "source": []
  },
  {
   "cell_type": "code",
   "execution_count": null,
   "id": "424043f1",
   "metadata": {},
   "outputs": [],
   "source": []
  },
  {
   "cell_type": "code",
   "execution_count": null,
   "id": "3d3436a2",
   "metadata": {},
   "outputs": [],
   "source": []
  },
  {
   "cell_type": "code",
   "execution_count": null,
   "id": "def787fd",
   "metadata": {},
   "outputs": [],
   "source": []
  },
  {
   "cell_type": "code",
   "execution_count": null,
   "id": "fcbe4ce0",
   "metadata": {},
   "outputs": [],
   "source": []
  },
  {
   "cell_type": "code",
   "execution_count": null,
   "id": "a7bbf120",
   "metadata": {},
   "outputs": [],
   "source": []
  },
  {
   "cell_type": "code",
   "execution_count": null,
   "id": "356fd2df",
   "metadata": {},
   "outputs": [],
   "source": []
  },
  {
   "cell_type": "code",
   "execution_count": null,
   "id": "176372bd",
   "metadata": {},
   "outputs": [],
   "source": []
  },
  {
   "cell_type": "code",
   "execution_count": null,
   "id": "95230f24",
   "metadata": {},
   "outputs": [],
   "source": []
  },
  {
   "cell_type": "code",
   "execution_count": null,
   "id": "7dae243f",
   "metadata": {},
   "outputs": [],
   "source": []
  },
  {
   "cell_type": "code",
   "execution_count": null,
   "id": "54b96620",
   "metadata": {},
   "outputs": [],
   "source": []
  },
  {
   "cell_type": "code",
   "execution_count": null,
   "id": "6b7efe1e",
   "metadata": {},
   "outputs": [],
   "source": []
  },
  {
   "cell_type": "code",
   "execution_count": null,
   "id": "17576e3d",
   "metadata": {},
   "outputs": [],
   "source": []
  },
  {
   "cell_type": "code",
   "execution_count": null,
   "id": "a38c8e5a",
   "metadata": {},
   "outputs": [],
   "source": []
  },
  {
   "cell_type": "code",
   "execution_count": null,
   "id": "3b237819",
   "metadata": {},
   "outputs": [],
   "source": []
  },
  {
   "cell_type": "code",
   "execution_count": null,
   "id": "1a1904bd",
   "metadata": {},
   "outputs": [],
   "source": []
  },
  {
   "cell_type": "code",
   "execution_count": null,
   "id": "73ff9e78",
   "metadata": {},
   "outputs": [],
   "source": []
  },
  {
   "cell_type": "code",
   "execution_count": null,
   "id": "ade59ac6",
   "metadata": {},
   "outputs": [],
   "source": []
  },
  {
   "cell_type": "code",
   "execution_count": null,
   "id": "035dff07",
   "metadata": {},
   "outputs": [],
   "source": []
  },
  {
   "cell_type": "code",
   "execution_count": null,
   "id": "bdff23e9",
   "metadata": {},
   "outputs": [],
   "source": []
  },
  {
   "cell_type": "code",
   "execution_count": null,
   "id": "7360d86e",
   "metadata": {},
   "outputs": [],
   "source": []
  },
  {
   "cell_type": "code",
   "execution_count": null,
   "id": "89260fe0",
   "metadata": {},
   "outputs": [],
   "source": []
  },
  {
   "cell_type": "code",
   "execution_count": null,
   "id": "3acae72b",
   "metadata": {},
   "outputs": [],
   "source": []
  },
  {
   "cell_type": "code",
   "execution_count": null,
   "id": "232cacc5",
   "metadata": {},
   "outputs": [],
   "source": []
  },
  {
   "cell_type": "code",
   "execution_count": null,
   "id": "d2b89d43",
   "metadata": {},
   "outputs": [],
   "source": []
  },
  {
   "cell_type": "code",
   "execution_count": null,
   "id": "00b7c16b",
   "metadata": {},
   "outputs": [],
   "source": []
  },
  {
   "cell_type": "code",
   "execution_count": null,
   "id": "5014ca99",
   "metadata": {},
   "outputs": [],
   "source": []
  },
  {
   "cell_type": "code",
   "execution_count": null,
   "id": "3d3dcd25",
   "metadata": {},
   "outputs": [],
   "source": []
  },
  {
   "cell_type": "code",
   "execution_count": null,
   "id": "be7981ff",
   "metadata": {},
   "outputs": [],
   "source": []
  },
  {
   "cell_type": "code",
   "execution_count": null,
   "id": "0ce8698e",
   "metadata": {},
   "outputs": [],
   "source": []
  },
  {
   "cell_type": "code",
   "execution_count": null,
   "id": "f9770e72",
   "metadata": {},
   "outputs": [],
   "source": []
  },
  {
   "cell_type": "code",
   "execution_count": null,
   "id": "8dc50762",
   "metadata": {},
   "outputs": [],
   "source": []
  },
  {
   "cell_type": "code",
   "execution_count": null,
   "id": "c49fea6a",
   "metadata": {},
   "outputs": [],
   "source": []
  },
  {
   "cell_type": "code",
   "execution_count": null,
   "id": "e5a94543",
   "metadata": {},
   "outputs": [],
   "source": []
  },
  {
   "cell_type": "code",
   "execution_count": null,
   "id": "c137b53c",
   "metadata": {},
   "outputs": [],
   "source": []
  },
  {
   "cell_type": "code",
   "execution_count": null,
   "id": "3b623983",
   "metadata": {},
   "outputs": [],
   "source": []
  },
  {
   "cell_type": "code",
   "execution_count": null,
   "id": "edc0eee8",
   "metadata": {},
   "outputs": [],
   "source": []
  },
  {
   "cell_type": "code",
   "execution_count": null,
   "id": "7af059e9",
   "metadata": {},
   "outputs": [],
   "source": []
  },
  {
   "cell_type": "code",
   "execution_count": null,
   "id": "036d9b0c",
   "metadata": {},
   "outputs": [],
   "source": []
  },
  {
   "cell_type": "code",
   "execution_count": null,
   "id": "740eef0f",
   "metadata": {},
   "outputs": [],
   "source": []
  },
  {
   "cell_type": "code",
   "execution_count": null,
   "id": "8d2c53a0",
   "metadata": {},
   "outputs": [],
   "source": []
  }
 ],
 "metadata": {
  "kernelspec": {
   "display_name": "Python 3 (ipykernel)",
   "language": "python",
   "name": "python3"
  },
  "language_info": {
   "codemirror_mode": {
    "name": "ipython",
    "version": 3
   },
   "file_extension": ".py",
   "mimetype": "text/x-python",
   "name": "python",
   "nbconvert_exporter": "python",
   "pygments_lexer": "ipython3",
   "version": "3.11.5"
  }
 },
 "nbformat": 4,
 "nbformat_minor": 5
}
