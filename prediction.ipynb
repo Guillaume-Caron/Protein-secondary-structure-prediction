{
 "cells": [
  {
   "cell_type": "code",
   "execution_count": 27,
   "id": "f4c6d2f2",
   "metadata": {},
   "outputs": [
    {
     "name": "stderr",
     "output_type": "stream",
     "text": [
      "C:\\Users\\Guillaume\\anaconda3\\Lib\\site-packages\\keras\\src\\saving\\saving_lib.py:396: UserWarning: Skipping variable loading for optimizer 'rmsprop', because it has 8 variables whereas the saved optimizer has 14 variables. \n",
      "  trackable.load_own_variables(weights_store.get(inner_path))\n"
     ]
    },
    {
     "name": "stdout",
     "output_type": "stream",
     "text": [
      "Model loaded successfully\n",
      "Encoded sequence shape: (1, 414, 7)\n",
      "Padded sequence shape: (1, 414, 7)\n",
      "\u001b[1m1/1\u001b[0m \u001b[32m━━━━━━━━━━━━━━━━━━━━\u001b[0m\u001b[37m\u001b[0m \u001b[1m1s\u001b[0m 508ms/step\n",
      "Predicted Secondary Structure: BBBBHHHHBHBHHBHHHBHBHBBBHHHHHHBBBBBBHBBHBHBHBHBBBHBBHBHHBBHBHHHBBBHBHBHBHBBBBBBBBHHHBHBHBHBHBBHBHBHBHHHBBBHBHBBHBHBBBHBBHHHBHBBHBBHBBHBBHHBHBHHHBHBHBBHHBBBHBBBHBHHBBHBBBBHBHBBHTBHHBHBHBBBBHBBHHBBHBHBHBBBBHBBHHBHHBBHHBBBBHHBBHBHHBHBHHBBBBHBHBHHHBBBHBBHHBBHBBHBHBBHBBHHBHHBBHBHHHBHHHBBHBBHHBHBHHHBBBHBHBHBBBHHBBHBHBHBBHHBBBBHBHBBBBBBBHBHBBHBHHBHBBBBBBHBBBBBBBHBBHHBBBHBHBHBHHBBHBBHBBBBHBHBHBBBHBBBHBBBHBHBBBHBHBBHHHT\n"
     ]
    }
   ],
   "source": [
    "import tensorflow as tf\n",
    "import numpy as np\n",
    "from tensorflow.keras.preprocessing.sequence import pad_sequences\n",
    "import pickle\n",
    "\n",
    "\n",
    "try:\n",
    "    model = tf.keras.models.load_model('my_model2.keras')\n",
    "    print(\"Model loaded successfully\")\n",
    "except Exception as e:\n",
    "    print(\"Error loading model:\", e)\n",
    "\n",
    "\n",
    "with open('saved_objects.pkl', 'rb') as file:\n",
    "    aa_properties = pickle.load(file)\n",
    "properties_dict = aa_properties['properties_dict']\n",
    "\n",
    "def encode_with_properties(prot_primary_seq, properties_dict):\n",
    "    encoded_seqs = []\n",
    "    for sequence in prot_primary_seq:\n",
    "        encoded_seq = []\n",
    "        for aa in sequence:\n",
    "            if aa in properties_dict:\n",
    "                encoded_seq.append(properties_dict[aa])\n",
    "            else:\n",
    "                encoded_seq.append([0.0] * len(next(iter(properties_dict.values()))))  # Default to zeros if unknown\n",
    "        encoded_seqs.append(encoded_seq)\n",
    "    return encoded_seqs\n",
    "\n",
    "\n",
    "sequence = 'MSEYIRVTEDENDEPIEIPSEDDGTVLLSTVTAQFPGACGLRYRNPVSQCMRGVRLVEGILHAPDAGWGNLVYVVNYPKDNKRKMDETDASSAVKVKRAVQKTSDLIVLGLPWKTTEQDLKEYFSTFGEVLMVQVKKDLKTGHSKGFGFVRFTEYETQVKVMSQRHMIDGRWCDCKLPNSKQSQDEPLRSRKVFVGRCTEDMTEDELREFFSQYGDVMDVFIPKPFRAFAFVTFADDQIAQSLCGEDLIIKGISVHISNAEPKHNSNRQLERSGRFGGNPGGFGNQGGFGNSRGGGAGLGNNQGSNMGGGMNFGAFSINPAMMAAAQAALQSSWGMMGMLASQQNQSGPSGNNQNQGNMQREPNQAFGSGNNSYSGSNSGAAIGWGSASNAGSGSGFNGGFGSSMDSKSSGWGM'\n",
    "encoded_sequence = encode_with_properties([sequence], properties_dict)\n",
    "max_length = len(sequence)  \n",
    "padded_sequence = pad_sequences(encoded_sequence, maxlen=max_length, padding='post', dtype='float32')\n",
    "\n",
    "\n",
    "padded_sequence = np.array(padded_sequence)\n",
    "if len(padded_sequence.shape) == 2:\n",
    "    padded_sequence = np.expand_dims(padded_sequence, axis=0)\n",
    "\n",
    "\n",
    "print(f\"Encoded sequence shape: {np.shape(encoded_sequence)}\")\n",
    "print(f\"Padded sequence shape: {padded_sequence.shape}\")\n",
    "\n",
    "\n",
    "predicted_structure = model.predict(padded_sequence)\n",
    "\n",
    "\n",
    "classes = ['H', 'B', 'T']\n",
    "predicted_classes = np.argmax(predicted_structure, axis=-1)\n",
    "predicted_secondary_structure = [classes[pred] for pred in predicted_classes[0]]\n",
    "\n",
    "\n",
    "predicted_secondary_structure_string = ''.join(predicted_secondary_structure)\n",
    "\n",
    "print(\"Predicted Secondary Structure:\", predicted_secondary_structure_string)\n"
   ]
  }
 ],
 "metadata": {
  "kernelspec": {
   "display_name": "Python 3 (ipykernel)",
   "language": "python",
   "name": "python3"
  },
  "language_info": {
   "codemirror_mode": {
    "name": "ipython",
    "version": 3
   },
   "file_extension": ".py",
   "mimetype": "text/x-python",
   "name": "python",
   "nbconvert_exporter": "python",
   "pygments_lexer": "ipython3",
   "version": "3.11.5"
  }
 },
 "nbformat": 4,
 "nbformat_minor": 5
}
